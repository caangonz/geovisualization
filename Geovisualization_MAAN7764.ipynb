{
  "nbformat": 4,
  "nbformat_minor": 0,
  "metadata": {
    "colab": {
      "provenance": [],
      "authorship_tag": "ABX9TyPXew0CM1Xu3R85OozpF9GK",
      "include_colab_link": true
    },
    "kernelspec": {
      "name": "python3",
      "display_name": "Python 3"
    },
    "language_info": {
      "name": "python"
    }
  },
  "cells": [
    {
      "cell_type": "markdown",
      "metadata": {
        "id": "view-in-github",
        "colab_type": "text"
      },
      "source": [
        "<a href=\"https://colab.research.google.com/github/caangonz/geovisualization/blob/main/Geovisualization_MAAN7764.ipynb\" target=\"_parent\"><img src=\"https://colab.research.google.com/assets/colab-badge.svg\" alt=\"Open In Colab\"/></a>"
      ]
    },
    {
      "cell_type": "markdown",
      "source": [
        "**MAAN7764 Geospatial Data Management and Visualization**\n",
        "\n",
        "Carlos Gonzales-Inca (cagoin@utu.fi)"
      ],
      "metadata": {
        "id": "pJVHhXdpQJI0"
      }
    },
    {
      "cell_type": "code",
      "execution_count": null,
      "metadata": {
        "id": "sCqf6f9pJVqX"
      },
      "outputs": [],
      "source": [
        "!pip install leafmap"
      ]
    },
    {
      "cell_type": "code",
      "source": [
        "!pip install mapclassify"
      ],
      "metadata": {
        "id": "DpYAh26LJcEO"
      },
      "execution_count": null,
      "outputs": []
    },
    {
      "cell_type": "code",
      "source": [
        "import leafmap\n",
        "import mapclassify"
      ],
      "metadata": {
        "id": "8bKkN0IBJek0"
      },
      "execution_count": null,
      "outputs": []
    },
    {
      "cell_type": "code",
      "source": [
        "data = leafmap.examples.datasets.countries_geojson"
      ],
      "metadata": {
        "id": "McATLHuqJgm0"
      },
      "execution_count": null,
      "outputs": []
    },
    {
      "cell_type": "code",
      "source": [
        "#Available classification schemes: BoxPlot, EqualInterval,FisherJenks,FisherJenksSampled,HeadTailBreaks\n",
        "# JenksCaspall,JenksCaspallForced,JenksCaspallSampled,MaxP,MaximumBreaks,NaturalBreaks,Quantiles,Percentiles,StdMean,UserDefined"
      ],
      "metadata": {
        "id": "9SJiE3J3JlG-"
      },
      "execution_count": null,
      "outputs": []
    },
    {
      "cell_type": "code",
      "source": [
        "m = leafmap.Map()\n",
        "m.add_data(\n",
        "    data, column='POP_EST', scheme='Quantiles', cmap='Blues', legend_title='Population'\n",
        ")\n",
        "m"
      ],
      "metadata": {
        "id": "fFVMn4XoJ6B9"
      },
      "execution_count": null,
      "outputs": []
    },
    {
      "cell_type": "code",
      "source": [
        "# Keplergl\n",
        "!pip install keplergl"
      ],
      "metadata": {
        "id": "Uk73b-0dKEmN"
      },
      "execution_count": null,
      "outputs": []
    },
    {
      "cell_type": "code",
      "source": [
        "import leafmap.kepler as leafmap"
      ],
      "metadata": {
        "id": "mXJP0jRJKVY2"
      },
      "execution_count": null,
      "outputs": []
    },
    {
      "cell_type": "code",
      "source": [
        "# Add a geopandas gpd\n",
        "import geopandas as gpd"
      ],
      "metadata": {
        "id": "sz8zx97bKYqe"
      },
      "execution_count": null,
      "outputs": []
    },
    {
      "cell_type": "code",
      "source": [
        "my_gdf = gpd.read_file(\n",
        "    \"https://raw.githubusercontent.com/opengeos/leafmap/master/examples/data/world_cities.geojson\"\n",
        ")"
      ],
      "metadata": {
        "id": "Jjm-JkG-KuvO"
      },
      "execution_count": null,
      "outputs": []
    },
    {
      "cell_type": "code",
      "source": [
        "my_gdf"
      ],
      "metadata": {
        "id": "ozUQKLcFK1hm"
      },
      "execution_count": null,
      "outputs": []
    },
    {
      "cell_type": "code",
      "source": [
        "m = leafmap.Map(center=[20, 0], zoom=1)\n",
        "m.add_gdf(my_gdf, \"World cities\")\n",
        "m"
      ],
      "metadata": {
        "id": "bPmgHEiqK9OA"
      },
      "execution_count": null,
      "outputs": []
    },
    {
      "cell_type": "code",
      "source": [
        "m.to_html(\"kepler_cities.html\")"
      ],
      "metadata": {
        "id": "WeuLd2h-MNm5"
      },
      "execution_count": null,
      "outputs": []
    }
  ]
}